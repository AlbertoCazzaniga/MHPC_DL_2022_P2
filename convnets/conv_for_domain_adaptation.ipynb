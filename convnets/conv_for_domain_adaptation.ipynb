{
 "cells": [
  {
   "cell_type": "code",
   "execution_count": 1,
   "metadata": {},
   "outputs": [],
   "source": [
    "%matplotlib inline\n",
    "%load_ext autoreload\n",
    "%autoreload 2"
   ]
  },
  {
   "cell_type": "code",
   "execution_count": 23,
   "metadata": {},
   "outputs": [],
   "source": [
    "from __future__ import print_function\n",
    "import torch\n",
    "import torch.nn as nn\n",
    "import torch.nn.functional as F\n",
    "import torch.optim as optim\n",
    "from torchvision import datasets, transforms\n",
    "from torchsummary import summary\n",
    "from PIL import Image\n",
    "import numpy as np\n",
    "from matplotlib import pyplot as plt"
   ]
  },
  {
   "cell_type": "code",
   "execution_count": 8,
   "metadata": {},
   "outputs": [],
   "source": [
    "class Net(nn.Module):\n",
    "    def __init__(self):\n",
    "        super().__init__()\n",
    "        self.feature_extractor = nn.Sequential(\n",
    "            nn.Conv2d(3, 10, kernel_size=5),\n",
    "            nn.MaxPool2d(2),\n",
    "            nn.ReLU(),\n",
    "            nn.Conv2d(10, 20, kernel_size=5),\n",
    "            nn.MaxPool2d(2),\n",
    "            nn.Dropout2d(),\n",
    "        )\n",
    "        \n",
    "        self.classifier = nn.Sequential(\n",
    "            nn.Linear(320, 50),\n",
    "            nn.ReLU(),\n",
    "            nn.Dropout(),\n",
    "            nn.Linear(50, 10),\n",
    "        )\n",
    "\n",
    "    def forward(self, x):\n",
    "        features = self.feature_extractor(x)\n",
    "        features = features.view(x.shape[0], -1)\n",
    "        logits = self.classifier(features)\n",
    "        return logits"
   ]
  },
  {
   "cell_type": "code",
   "execution_count": 11,
   "metadata": {},
   "outputs": [],
   "source": [
    "class GrayscaleToRgb:\n",
    "    \"\"\"Convert a grayscale image to rgb\"\"\"\n",
    "    def __call__(self, image):\n",
    "        image = np.array(image)\n",
    "        image = np.dstack([image, image, image])\n",
    "        return Image.fromarray(image)"
   ]
  },
  {
   "cell_type": "code",
   "execution_count": 12,
   "metadata": {},
   "outputs": [],
   "source": [
    "def train(model, device, train_loader, optimizer, epoch):\n",
    "    model.train()\n",
    "    for batch_idx, (data, target) in enumerate(train_loader):\n",
    "        data, target = data.to(device), target.to(device)\n",
    "        optimizer.zero_grad()\n",
    "        output = model(data)\n",
    "        loss = criterion(output, target)\n",
    "        loss.backward()\n",
    "        optimizer.step()\n",
    "        if batch_idx % log_interval == 0:\n",
    "            print('Train Epoch: {} [{}/{} ({:.0f}%)]\\tLoss: {:.6f}'.format(\n",
    "                epoch, batch_idx * len(data), len(train_loader.dataset),\n",
    "                100. * batch_idx / len(train_loader), loss.item()))\n",
    "\n",
    "def test(model, device, test_loader):\n",
    "    model.eval()\n",
    "    test_loss = 0\n",
    "    correct = 0\n",
    "    with torch.no_grad():\n",
    "        for data, target in test_loader:\n",
    "            data, target = data.to(device), target.to(device)\n",
    "            output = model(data)\n",
    "            test_loss += criterion(output, target).item() # sum up batch loss\n",
    "            pred = output.argmax(dim=1, keepdim=True) # get the index of the max log-probability\n",
    "            correct += pred.eq(target.view_as(pred)).sum().item()\n",
    "\n",
    "    test_loss /= len(test_loader.dataset)\n",
    "\n",
    "    print('\\nTest set: Average loss: {:.4f}, Accuracy: {}/{} ({:.0f}%)\\n'.format(\n",
    "        test_loss, correct, len(test_loader.dataset),\n",
    "        100. * correct / len(test_loader.dataset)))"
   ]
  },
  {
   "cell_type": "code",
   "execution_count": 18,
   "metadata": {},
   "outputs": [],
   "source": [
    "# Training settings\n",
    "input_size=(3,28,28,)\n",
    "batch_size=64\n",
    "test_batch_size=1000\n",
    "epochs=10\n",
    "lr=0.01\n",
    "momentum=0.0   \n",
    "seed=1\n",
    "log_interval=100"
   ]
  },
  {
   "cell_type": "code",
   "execution_count": 14,
   "metadata": {},
   "outputs": [],
   "source": [
    "use_cuda = torch.cuda.is_available()\n",
    "torch.manual_seed(seed)\n",
    "device = torch.device(\"cuda\" if use_cuda else \"cpu\")\n",
    "kwargs = {'num_workers': 1, 'pin_memory': True} if use_cuda else {}"
   ]
  },
  {
   "cell_type": "code",
   "execution_count": 33,
   "metadata": {},
   "outputs": [],
   "source": [
    "train_loader = torch.utils.data.DataLoader(\n",
    "        datasets.MNIST('../data', train=True, download=True,\n",
    "                       transform=transforms.Compose([\n",
    "                           GrayscaleToRgb(),\n",
    "                           transforms.ToTensor() \n",
    "                       ])),\n",
    "        batch_size=batch_size, shuffle=True, **kwargs)\n",
    "\n",
    "test_loader = torch.utils.data.DataLoader(\n",
    "        datasets.MNIST('../data', train=False, transform=transforms.Compose([\n",
    "                           GrayscaleToRgb(),\n",
    "                           transforms.ToTensor()                          \n",
    "                       ])),\n",
    "        batch_size=test_batch_size, shuffle=True, **kwargs)"
   ]
  },
  {
   "cell_type": "code",
   "execution_count": 34,
   "metadata": {},
   "outputs": [
    {
     "name": "stdout",
     "output_type": "stream",
     "text": [
      "torch.Size([64, 3, 28, 28])\n"
     ]
    }
   ],
   "source": [
    "imgs,labels = next(iter(train_loader))\n",
    "print(imgs.shape)"
   ]
  },
  {
   "cell_type": "code",
   "execution_count": 36,
   "metadata": {},
   "outputs": [
    {
     "data": {
      "text/plain": [
       "tensor([7, 5, 9, 1, 1, 8, 4, 2, 3, 3, 5, 9, 7, 3, 9, 9, 0, 6, 7, 0, 0, 8, 4, 0,\n",
       "        1, 3, 1, 0, 6, 2, 7, 1, 5, 7, 5, 3, 2, 0, 4, 0, 2, 7, 7, 9, 4, 8, 8, 9,\n",
       "        9, 6, 3, 1, 8, 4, 6, 2, 8, 6, 7, 2, 9, 7, 0, 7])"
      ]
     },
     "execution_count": 36,
     "metadata": {},
     "output_type": "execute_result"
    }
   ],
   "source": [
    "labels"
   ]
  },
  {
   "cell_type": "code",
   "execution_count": 41,
   "metadata": {},
   "outputs": [
    {
     "data": {
      "text/plain": [
       "<matplotlib.image.AxesImage at 0x7f686a7be908>"
      ]
     },
     "execution_count": 41,
     "metadata": {},
     "output_type": "execute_result"
    },
    {
     "data": {
      "image/png": "[encoded data removed]",
      "text/plain": [
       "<Figure size 432x288 with 1 Axes>"
      ]
     },
     "metadata": {
      "needs_background": "light"
     },
     "output_type": "display_data"
    }
   ],
   "source": [
    "plt.imshow(np.transpose(imgs[2], (1,2,0) ) )"
   ]
  },
  {
   "cell_type": "code",
   "execution_count": 42,
   "metadata": {},
   "outputs": [],
   "source": [
    "model = Net().to(device)\n",
    "optimizer = optim.SGD(model.parameters(), lr=lr, momentum=momentum)\n",
    "criterion = torch.nn.CrossEntropyLoss()"
   ]
  },
  {
   "cell_type": "code",
   "execution_count": 43,
   "metadata": {},
   "outputs": [
    {
     "name": "stdout",
     "output_type": "stream",
     "text": [
      "----------------------------------------------------------------\n",
      "        Layer (type)               Output Shape         Param #\n",
      "================================================================\n",
      "            Conv2d-1           [-1, 10, 24, 24]             760\n",
      "         MaxPool2d-2           [-1, 10, 12, 12]               0\n",
      "              ReLU-3           [-1, 10, 12, 12]               0\n",
      "            Conv2d-4             [-1, 20, 8, 8]           5,020\n",
      "         MaxPool2d-5             [-1, 20, 4, 4]               0\n",
      "         Dropout2d-6             [-1, 20, 4, 4]               0\n",
      "            Linear-7                   [-1, 50]          16,050\n",
      "              ReLU-8                   [-1, 50]               0\n",
      "           Dropout-9                   [-1, 50]               0\n",
      "           Linear-10                   [-1, 10]             510\n",
      "================================================================\n",
      "Total params: 22,340\n",
      "Trainable params: 22,340\n",
      "Non-trainable params: 0\n",
      "----------------------------------------------------------------\n",
      "Input size (MB): 0.01\n",
      "Forward/backward pass size (MB): 0.08\n",
      "Params size (MB): 0.09\n",
      "Estimated Total Size (MB): 0.18\n",
      "----------------------------------------------------------------\n"
     ]
    }
   ],
   "source": [
    "summary(model,input_size)"
   ]
  },
  {
   "cell_type": "code",
   "execution_count": 44,
   "metadata": {},
   "outputs": [
    {
     "name": "stdout",
     "output_type": "stream",
     "text": [
      "Train Epoch: 1 [0/60000 (0%)]\tLoss: 2.310507\n",
      "Train Epoch: 1 [6400/60000 (11%)]\tLoss: 2.319052\n",
      "Train Epoch: 1 [12800/60000 (21%)]\tLoss: 2.288078\n",
      "Train Epoch: 1 [19200/60000 (32%)]\tLoss: 2.185427\n",
      "Train Epoch: 1 [25600/60000 (43%)]\tLoss: 1.949314\n",
      "Train Epoch: 1 [32000/60000 (53%)]\tLoss: 1.566168\n",
      "Train Epoch: 1 [38400/60000 (64%)]\tLoss: 1.240254\n",
      "Train Epoch: 1 [44800/60000 (75%)]\tLoss: 1.034707\n",
      "Train Epoch: 1 [51200/60000 (85%)]\tLoss: 0.917328\n",
      "Train Epoch: 1 [57600/60000 (96%)]\tLoss: 0.700205\n",
      "\n",
      "Test set: Average loss: 0.0004, Accuracy: 8852/10000 (89%)\n",
      "\n",
      "Train Epoch: 2 [0/60000 (0%)]\tLoss: 0.830391\n",
      "Train Epoch: 2 [6400/60000 (11%)]\tLoss: 0.558885\n",
      "Train Epoch: 2 [12800/60000 (21%)]\tLoss: 0.824896\n",
      "Train Epoch: 2 [19200/60000 (32%)]\tLoss: 0.704517\n",
      "Train Epoch: 2 [25600/60000 (43%)]\tLoss: 0.746356\n",
      "Train Epoch: 2 [32000/60000 (53%)]\tLoss: 0.685877\n",
      "Train Epoch: 2 [38400/60000 (64%)]\tLoss: 0.547405\n",
      "Train Epoch: 2 [44800/60000 (75%)]\tLoss: 0.693664\n",
      "Train Epoch: 2 [51200/60000 (85%)]\tLoss: 0.548298\n",
      "Train Epoch: 2 [57600/60000 (96%)]\tLoss: 0.382093\n",
      "\n",
      "Test set: Average loss: 0.0002, Accuracy: 9314/10000 (93%)\n",
      "\n",
      "Train Epoch: 3 [0/60000 (0%)]\tLoss: 0.686792\n",
      "Train Epoch: 3 [6400/60000 (11%)]\tLoss: 0.491525\n",
      "Train Epoch: 3 [12800/60000 (21%)]\tLoss: 0.497826\n",
      "Train Epoch: 3 [19200/60000 (32%)]\tLoss: 0.239465\n",
      "Train Epoch: 3 [25600/60000 (43%)]\tLoss: 0.395857\n",
      "Train Epoch: 3 [32000/60000 (53%)]\tLoss: 0.650176\n",
      "Train Epoch: 3 [38400/60000 (64%)]\tLoss: 0.535260\n",
      "Train Epoch: 3 [44800/60000 (75%)]\tLoss: 0.543631\n",
      "Train Epoch: 3 [51200/60000 (85%)]\tLoss: 0.612325\n",
      "Train Epoch: 3 [57600/60000 (96%)]\tLoss: 0.394371\n",
      "\n",
      "Test set: Average loss: 0.0002, Accuracy: 9415/10000 (94%)\n",
      "\n",
      "Train Epoch: 4 [0/60000 (0%)]\tLoss: 0.463960\n",
      "Train Epoch: 4 [6400/60000 (11%)]\tLoss: 0.363714\n",
      "Train Epoch: 4 [12800/60000 (21%)]\tLoss: 0.684086\n",
      "Train Epoch: 4 [19200/60000 (32%)]\tLoss: 0.381765\n",
      "Train Epoch: 4 [25600/60000 (43%)]\tLoss: 0.372252\n",
      "Train Epoch: 4 [32000/60000 (53%)]\tLoss: 0.451442\n",
      "Train Epoch: 4 [38400/60000 (64%)]\tLoss: 0.622505\n",
      "Train Epoch: 4 [44800/60000 (75%)]\tLoss: 0.453925\n",
      "Train Epoch: 4 [51200/60000 (85%)]\tLoss: 0.409126\n",
      "Train Epoch: 4 [57600/60000 (96%)]\tLoss: 0.275114\n",
      "\n",
      "Test set: Average loss: 0.0002, Accuracy: 9492/10000 (95%)\n",
      "\n",
      "Train Epoch: 5 [0/60000 (0%)]\tLoss: 0.245958\n",
      "Train Epoch: 5 [6400/60000 (11%)]\tLoss: 0.360797\n",
      "Train Epoch: 5 [12800/60000 (21%)]\tLoss: 0.293808\n",
      "Train Epoch: 5 [19200/60000 (32%)]\tLoss: 0.349081\n",
      "Train Epoch: 5 [25600/60000 (43%)]\tLoss: 0.207617\n",
      "Train Epoch: 5 [32000/60000 (53%)]\tLoss: 0.353048\n",
      "Train Epoch: 5 [38400/60000 (64%)]\tLoss: 0.361802\n",
      "Train Epoch: 5 [44800/60000 (75%)]\tLoss: 0.439422\n",
      "Train Epoch: 5 [51200/60000 (85%)]\tLoss: 0.322919\n",
      "Train Epoch: 5 [57600/60000 (96%)]\tLoss: 0.488733\n",
      "\n",
      "Test set: Average loss: 0.0002, Accuracy: 9539/10000 (95%)\n",
      "\n",
      "Train Epoch: 6 [0/60000 (0%)]\tLoss: 0.366002\n",
      "Train Epoch: 6 [6400/60000 (11%)]\tLoss: 0.272095\n",
      "Train Epoch: 6 [12800/60000 (21%)]\tLoss: 0.310770\n",
      "Train Epoch: 6 [19200/60000 (32%)]\tLoss: 0.401863\n",
      "Train Epoch: 6 [25600/60000 (43%)]\tLoss: 0.228141\n",
      "Train Epoch: 6 [32000/60000 (53%)]\tLoss: 0.324365\n",
      "Train Epoch: 6 [38400/60000 (64%)]\tLoss: 0.321592\n",
      "Train Epoch: 6 [44800/60000 (75%)]\tLoss: 0.437203\n",
      "Train Epoch: 6 [51200/60000 (85%)]\tLoss: 0.246685\n",
      "Train Epoch: 6 [57600/60000 (96%)]\tLoss: 0.341910\n",
      "\n",
      "Test set: Average loss: 0.0001, Accuracy: 9580/10000 (96%)\n",
      "\n",
      "Train Epoch: 7 [0/60000 (0%)]\tLoss: 0.263825\n",
      "Train Epoch: 7 [6400/60000 (11%)]\tLoss: 0.335634\n",
      "Train Epoch: 7 [12800/60000 (21%)]\tLoss: 0.269404\n",
      "Train Epoch: 7 [19200/60000 (32%)]\tLoss: 0.261410\n",
      "Train Epoch: 7 [25600/60000 (43%)]\tLoss: 0.223090\n",
      "Train Epoch: 7 [32000/60000 (53%)]\tLoss: 0.274544\n",
      "Train Epoch: 7 [38400/60000 (64%)]\tLoss: 0.447600\n",
      "Train Epoch: 7 [44800/60000 (75%)]\tLoss: 0.208781\n",
      "Train Epoch: 7 [51200/60000 (85%)]\tLoss: 0.369237\n",
      "Train Epoch: 7 [57600/60000 (96%)]\tLoss: 0.361255\n",
      "\n",
      "Test set: Average loss: 0.0001, Accuracy: 9627/10000 (96%)\n",
      "\n",
      "Train Epoch: 8 [0/60000 (0%)]\tLoss: 0.158583\n",
      "Train Epoch: 8 [6400/60000 (11%)]\tLoss: 0.278285\n",
      "Train Epoch: 8 [12800/60000 (21%)]\tLoss: 0.440417\n",
      "Train Epoch: 8 [19200/60000 (32%)]\tLoss: 0.430593\n",
      "Train Epoch: 8 [25600/60000 (43%)]\tLoss: 0.216747\n",
      "Train Epoch: 8 [32000/60000 (53%)]\tLoss: 0.455154\n",
      "Train Epoch: 8 [38400/60000 (64%)]\tLoss: 0.143897\n",
      "Train Epoch: 8 [44800/60000 (75%)]\tLoss: 0.291638\n",
      "Train Epoch: 8 [51200/60000 (85%)]\tLoss: 0.168486\n",
      "Train Epoch: 8 [57600/60000 (96%)]\tLoss: 0.344490\n",
      "\n",
      "Test set: Average loss: 0.0001, Accuracy: 9649/10000 (96%)\n",
      "\n",
      "Train Epoch: 9 [0/60000 (0%)]\tLoss: 0.250882\n",
      "Train Epoch: 9 [6400/60000 (11%)]\tLoss: 0.299232\n",
      "Train Epoch: 9 [12800/60000 (21%)]\tLoss: 0.399977\n",
      "Train Epoch: 9 [19200/60000 (32%)]\tLoss: 0.737414\n",
      "Train Epoch: 9 [25600/60000 (43%)]\tLoss: 0.507101\n",
      "Train Epoch: 9 [32000/60000 (53%)]\tLoss: 0.193991\n",
      "Train Epoch: 9 [38400/60000 (64%)]\tLoss: 0.243164\n",
      "Train Epoch: 9 [44800/60000 (75%)]\tLoss: 0.367047\n",
      "Train Epoch: 9 [51200/60000 (85%)]\tLoss: 0.369697\n",
      "Train Epoch: 9 [57600/60000 (96%)]\tLoss: 0.309138\n",
      "\n",
      "Test set: Average loss: 0.0001, Accuracy: 9648/10000 (96%)\n",
      "\n",
      "Train Epoch: 10 [0/60000 (0%)]\tLoss: 0.215785\n",
      "Train Epoch: 10 [6400/60000 (11%)]\tLoss: 0.233272\n",
      "Train Epoch: 10 [12800/60000 (21%)]\tLoss: 0.240553\n",
      "Train Epoch: 10 [19200/60000 (32%)]\tLoss: 0.334504\n",
      "Train Epoch: 10 [25600/60000 (43%)]\tLoss: 0.340460\n",
      "Train Epoch: 10 [32000/60000 (53%)]\tLoss: 0.568408\n",
      "Train Epoch: 10 [38400/60000 (64%)]\tLoss: 0.331910\n",
      "Train Epoch: 10 [44800/60000 (75%)]\tLoss: 0.254895\n",
      "Train Epoch: 10 [51200/60000 (85%)]\tLoss: 0.237789\n",
      "Train Epoch: 10 [57600/60000 (96%)]\tLoss: 0.181597\n",
      "\n",
      "Test set: Average loss: 0.0001, Accuracy: 9708/10000 (97%)\n",
      "\n"
     ]
    }
   ],
   "source": [
    "for epoch in range(1, epochs + 1):\n",
    "    train(model, device, train_loader, optimizer, epoch)\n",
    "    test(model, device, test_loader)"
   ]
  },
  {
   "cell_type": "code",
   "execution_count": 45,
   "metadata": {},
   "outputs": [],
   "source": [
    "torch.save(model.state_dict(),\"conv_for_domain_adaptation.pt\")"
   ]
  }
 ],
 "metadata": {
  "kernelspec": {
   "display_name": "Python 3",
   "language": "python",
   "name": "python3"
  },
  "language_info": {
   "codemirror_mode": {
    "name": "ipython",
    "version": 3
   },
   "file_extension": ".py",
   "mimetype": "text/x-python",
   "name": "python",
   "nbconvert_exporter": "python",
   "pygments_lexer": "ipython3",
   "version": "3.8.8"
  }
 },
 "nbformat": 4,
 "nbformat_minor": 2
}
